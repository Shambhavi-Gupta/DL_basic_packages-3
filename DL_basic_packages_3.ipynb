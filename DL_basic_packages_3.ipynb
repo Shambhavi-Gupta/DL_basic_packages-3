{
  "nbformat": 4,
  "nbformat_minor": 0,
  "metadata": {
    "colab": {
      "name": "DL_basic_packages-3.ipynb",
      "provenance": [],
      "collapsed_sections": [
        "fJDpXwit556K"
      ],
      "toc_visible": true,
      "authorship_tag": "ABX9TyPfB9Az8CsAfpwlXIjJ/Wf5",
      "include_colab_link": true
    },
    "kernelspec": {
      "name": "python3",
      "display_name": "Python 3"
    }
  },
  "cells": [
    {
      "cell_type": "markdown",
      "metadata": {
        "id": "view-in-github",
        "colab_type": "text"
      },
      "source": [
        "<a href=\"https://colab.research.google.com/github/Shambhavi-Gupta/DL_basic_packages-3/blob/master/DL_basic_packages_3.ipynb\" target=\"_parent\"><img src=\"https://colab.research.google.com/assets/colab-badge.svg\" alt=\"Open In Colab\"/></a>"
      ]
    },
    {
      "cell_type": "markdown",
      "metadata": {
        "id": "daFWCXP00pdz",
        "colab_type": "text"
      },
      "source": [
        "#**Python Packages**"
      ]
    },
    {
      "cell_type": "code",
      "metadata": {
        "id": "HGmlCBmZ0xGj",
        "colab_type": "code",
        "colab": {}
      },
      "source": [
        "import math"
      ],
      "execution_count": null,
      "outputs": []
    },
    {
      "cell_type": "code",
      "metadata": {
        "id": "62z4qZn90ycX",
        "colab_type": "code",
        "colab": {
          "base_uri": "https://localhost:8080/",
          "height": 34
        },
        "outputId": "4a659e39-2003-47d4-cd7e-a9f42a15b5bf"
      },
      "source": [
        "a = math.sqrt(100)\n",
        "print(a)"
      ],
      "execution_count": null,
      "outputs": [
        {
          "output_type": "stream",
          "text": [
            "10.0\n"
          ],
          "name": "stdout"
        }
      ]
    },
    {
      "cell_type": "code",
      "metadata": {
        "id": "Bvzfn4Am07OW",
        "colab_type": "code",
        "colab": {
          "base_uri": "https://localhost:8080/",
          "height": 34
        },
        "outputId": "e7dafb6d-0ea6-42e4-d34b-52a927a57a6a"
      },
      "source": [
        "a = math.pow(100 , 0.5)\n",
        "print(a)"
      ],
      "execution_count": null,
      "outputs": [
        {
          "output_type": "stream",
          "text": [
            "10.0\n"
          ],
          "name": "stdout"
        }
      ]
    },
    {
      "cell_type": "code",
      "metadata": {
        "id": "ZNNKAn5G1Ggs",
        "colab_type": "code",
        "colab": {}
      },
      "source": [
        "x=100\n",
        "y=1\n",
        "for i in range(1 , x):\n",
        "    y *= i\n",
        "    print('factorial of', x , 'is' , y)"
      ],
      "execution_count": null,
      "outputs": []
    },
    {
      "cell_type": "code",
      "metadata": {
        "id": "FgbpExBh1qb6",
        "colab_type": "code",
        "colab": {}
      },
      "source": [
        "y = math.factorial(x)"
      ],
      "execution_count": null,
      "outputs": []
    },
    {
      "cell_type": "code",
      "metadata": {
        "id": "Aa40oCoV2IS0",
        "colab_type": "code",
        "colab": {}
      },
      "source": [
        "import math as m"
      ],
      "execution_count": null,
      "outputs": []
    },
    {
      "cell_type": "code",
      "metadata": {
        "id": "tzafwBbN2QU0",
        "colab_type": "code",
        "colab": {}
      },
      "source": [
        "y = m.factorial(x)"
      ],
      "execution_count": null,
      "outputs": []
    },
    {
      "cell_type": "code",
      "metadata": {
        "id": "SG7wA0qO2TkL",
        "colab_type": "code",
        "colab": {}
      },
      "source": [
        "from math import factorial"
      ],
      "execution_count": null,
      "outputs": []
    },
    {
      "cell_type": "code",
      "metadata": {
        "id": "29EonRwP2cis",
        "colab_type": "code",
        "colab": {}
      },
      "source": [
        "y = factorial(x)"
      ],
      "execution_count": null,
      "outputs": []
    },
    {
      "cell_type": "code",
      "metadata": {
        "id": "85pWDF2m2erO",
        "colab_type": "code",
        "colab": {}
      },
      "source": [
        "import time"
      ],
      "execution_count": null,
      "outputs": []
    },
    {
      "cell_type": "code",
      "metadata": {
        "id": "ru5CpvJd3De9",
        "colab_type": "code",
        "colab": {
          "base_uri": "https://localhost:8080/",
          "height": 51
        },
        "outputId": "af3e8aae-e91b-479f-b3a9-cf39056ce5fd"
      },
      "source": [
        "vals = list(range(1 , 100))\n",
        "tic = time.time()\n",
        "for x in vals:\n",
        "    y = 1\n",
        "    for i in range(1 , x):\n",
        "        y *= i\n",
        "toc = time.time()\n",
        "print('Elapsed time in secs in own function' , toc - tic)\n",
        "tic = time.time()\n",
        "for x in vals:\n",
        "    y = math.factorial(x) \n",
        "toc = time.time()\n",
        "print('Elapsed time in secs in own function' , toc - tic)    \n"
      ],
      "execution_count": null,
      "outputs": [
        {
          "output_type": "stream",
          "text": [
            "Elapsed time in secs in own function 0.0014526844024658203\n",
            "Elapsed time in secs in own function 0.00020265579223632812\n"
          ],
          "name": "stdout"
        }
      ]
    },
    {
      "cell_type": "markdown",
      "metadata": {
        "id": "fJDpXwit556K",
        "colab_type": "text"
      },
      "source": [
        "##*Creating your own package*"
      ]
    },
    {
      "cell_type": "code",
      "metadata": {
        "id": "ItzA7WUI38yi",
        "colab_type": "code",
        "colab": {}
      },
      "source": [
        "!echo 'def hello():' > my_first_module.py\n",
        "!echo '    print(\"Hello I am living in a different file!!!\")' >> my_first_module.py"
      ],
      "execution_count": null,
      "outputs": []
    },
    {
      "cell_type": "code",
      "metadata": {
        "id": "6u-y5rIs4mGl",
        "colab_type": "code",
        "colab": {
          "base_uri": "https://localhost:8080/",
          "height": 51
        },
        "outputId": "8fe381fc-15d9-48ec-a077-4f6edc12ce86"
      },
      "source": [
        "!cat my_first_module.py"
      ],
      "execution_count": null,
      "outputs": [
        {
          "output_type": "stream",
          "text": [
            "def hello():\n",
            "    print(\"Hello I am living in a different file!!!\")\n"
          ],
          "name": "stdout"
        }
      ]
    },
    {
      "cell_type": "code",
      "metadata": {
        "id": "G2fuW6NV4tdI",
        "colab_type": "code",
        "colab": {}
      },
      "source": [
        "import my_first_module"
      ],
      "execution_count": null,
      "outputs": []
    },
    {
      "cell_type": "code",
      "metadata": {
        "id": "tDWaKbK35adA",
        "colab_type": "code",
        "colab": {
          "base_uri": "https://localhost:8080/",
          "height": 34
        },
        "outputId": "808fb60f-3438-49a2-8fe4-9b9dfcfa767c"
      },
      "source": [
        "my_first_module.hello()"
      ],
      "execution_count": null,
      "outputs": [
        {
          "output_type": "stream",
          "text": [
            "Hello I am living in a different file!!!\n"
          ],
          "name": "stdout"
        }
      ]
    },
    {
      "cell_type": "code",
      "metadata": {
        "id": "IVFh0XOQ5fWb",
        "colab_type": "code",
        "colab": {}
      },
      "source": [
        "from my_first_module import hello"
      ],
      "execution_count": null,
      "outputs": []
    },
    {
      "cell_type": "code",
      "metadata": {
        "id": "2QxqHmaD5rze",
        "colab_type": "code",
        "colab": {
          "base_uri": "https://localhost:8080/",
          "height": 34
        },
        "outputId": "56cb57dc-e42e-4510-9dee-062b191af95b"
      },
      "source": [
        "hello()"
      ],
      "execution_count": null,
      "outputs": [
        {
          "output_type": "stream",
          "text": [
            "Hello I am living in a different file!!!\n"
          ],
          "name": "stdout"
        }
      ]
    },
    {
      "cell_type": "code",
      "metadata": {
        "id": "58I65kwv5wWd",
        "colab_type": "code",
        "colab": {}
      },
      "source": [
        ""
      ],
      "execution_count": null,
      "outputs": []
    }
  ]
}